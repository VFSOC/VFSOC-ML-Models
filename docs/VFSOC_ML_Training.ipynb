{
  "cells": [
    {
      "cell_type": "raw",
      "metadata": {
        "vscode": {
          "languageId": "raw"
        }
      },
      "source": [
        "# VFSOC ML Models - Irregular Energy Consumption Detection Training\n",
        "\n",
        "This notebook provides a complete training pipeline for the VFSOC ML platform's irregular energy consumption detection model.\n",
        "\n",
        "**Platform Overview:**\n",
        "- Current MVP: Energy consumption anomaly detection for EV charging stations\n",
        "- Future: Ignition behavior detection and sensor spike detection\n",
        "- Architecture: Modular, extensible design for multiple use cases\n",
        "\n",
        "**Training Process:**\n",
        "1. Environment setup\n",
        "2. Data preparation (synthetic generation or real data upload)\n",
        "3. Model training (Isolation Forest + Z-score analysis)\n",
        "4. Evaluation and visualization\n",
        "5. ONNX conversion for production deployment\n",
        "6. Results download\n"
      ]
    }
  ],
  "metadata": {
    "language_info": {
      "name": "python"
    }
  },
  "nbformat": 4,
  "nbformat_minor": 2
}
